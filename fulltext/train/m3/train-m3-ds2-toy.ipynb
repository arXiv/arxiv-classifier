{
 "cells": [
  {
   "cell_type": "markdown",
   "metadata": {},
   "source": [
    "This toy version is to verify we can train a model."
   ]
  },
  {
   "cell_type": "markdown",
   "metadata": {},
   "source": [
    "## Install Python Libraries\n",
    "- FastAI versions < 1.0.61 try to download a missing Wikipedia base model.\n",
    "- Sentencepiece is an external option for FastAI"
   ]
  },
  {
   "cell_type": "code",
   "execution_count": null,
   "metadata": {},
   "outputs": [],
   "source": [
    "%pip install fastai==1.0.61\n",
    "%pip install sentencepiece==0.1.83\n",
    "# Kernel -> Restart Kernel and Clear All Outputs..."
   ]
  },
  {
   "cell_type": "markdown",
   "metadata": {},
   "source": [
    "## Settings"
   ]
  },
  {
   "cell_type": "code",
   "execution_count": null,
   "metadata": {},
   "outputs": [],
   "source": [
    "model_id      = 'm3'\n",
    "dataset_id    = f'ds2'\n",
    "dataset_name  = f'{dataset_id}-mixed-large'\n",
    "dataset_types = ['train', 'validate']\n",
    "use_num_cpus  = 4\n",
    "batch_size    = 32"
   ]
  },
  {
   "cell_type": "markdown",
   "metadata": {},
   "source": [
    "## Get Data\n",
    "- Copy a model pre-trained on arXiv machine learning papers to this VM.\n",
    "- Copy new arXiv papers to this VM, to adapt the model to all subject categories."
   ]
  },
  {
   "cell_type": "code",
   "execution_count": 1,
   "metadata": {},
   "outputs": [],
   "source": [
    "import os\n",
    "if not os.path.exists('models'):\n",
    "    os.makedirs('models')\n",
    "if not os.path.exists(f'data/{dataset_name}'):\n",
    "    os.makedirs(f'data/{dataset_name}')"
   ]
  },
  {
   "cell_type": "code",
   "execution_count": 2,
   "metadata": {},
   "outputs": [],
   "source": [
    "from google.cloud import storage\n",
    "storage_client = storage.Client()\n",
    "bucket = storage_client.get_bucket('arxiv-development-classifier')"
   ]
  },
  {
   "cell_type": "code",
   "execution_count": 3,
   "metadata": {},
   "outputs": [],
   "source": [
    "bucket.get_blob('models/abstract-spm.model').download_to_filename('models/abstract-spm.model')\n",
    "bucket.get_blob('models/abstract-spm.vocab').download_to_filename('models/abstract-spm.vocab')\n",
    "bucket.get_blob('models/abstract-lm.pth').download_to_filename('models/abstract-lm.pth')"
   ]
  },
  {
   "cell_type": "code",
   "execution_count": null,
   "metadata": {},
   "outputs": [],
   "source": [
    "blobs = bucket.list_blobs(prefix=f\"data/{dataset_id}\")\n",
    "for item in blobs:\n",
    "  print(item.name)"
   ]
  },
  {
   "cell_type": "code",
   "execution_count": 4,
   "metadata": {},
   "outputs": [],
   "source": [
    "for dataset_type in dataset_types:\n",
    "    tmp=f'data/{dataset_name}/{dataset_name}-{dataset_type}.json'\n",
    "    print(f'Downloading: {tmp}')\n",
    "    bucket.get_blob(tmp).download_to_filename(tmp)"
   ]
  },
  {
   "cell_type": "markdown",
   "metadata": {},
   "source": [
    "## Train\n",
    "- Create a model and save to disk.\n",
    "- To monitor GPU use in a terminal:\n",
    "```\n",
    "watch -n 9 nvidia-smi\n",
    "```\n",
    "- To log GPU use:\n",
    "```\n",
    "nvidia-smi --query-gpu=timestamp,pstate,temperature.gpu,utilization.gpu,utilization.memory,memory.total,memory.free,memory.used --format=csv -l 60 > nvidia-m3.log\n",
    "```"
   ]
  },
  {
   "cell_type": "code",
   "execution_count": 5,
   "metadata": {},
   "outputs": [],
   "source": [
    "import json\n",
    "import numpy  as np\n",
    "import pandas as pd\n",
    "import re\n",
    "import torch\n",
    "from fastai.text import *\n",
    "from pathlib     import Path "
   ]
  },
  {
   "cell_type": "code",
   "execution_count": 6,
   "metadata": {},
   "outputs": [],
   "source": [
    "processor = SPProcessor(\n",
    "    sp_model=Path('models/abstract-spm.model'),\n",
    "    sp_vocab=Path('models/abstract-spm.vocab'), \n",
    "    n_cpus=use_num_cpus, \n",
    "    mark_fields=True)"
   ]
  },
  {
   "cell_type": "code",
   "execution_count": 7,
   "metadata": {},
   "outputs": [],
   "source": [
    "train_df = pd.read_json('data/train.json')\n",
    "train_tl = TextList.from_df(train_df, Path('.'), cols=[\"fulltext\"], processor=processor)"
   ]
  },
  {
   "cell_type": "code",
   "execution_count": 8,
   "metadata": {},
   "outputs": [],
   "source": [
    "validate_df = pd.read_json('data/validate.json')\n",
    "validate_tl = TextList.from_df(validate_df, Path('.'), cols=[\"fulltext\"], processor=processor)"
   ]
  },
  {
   "cell_type": "code",
   "execution_count": 9,
   "metadata": {},
   "outputs": [
    {
     "data": {
      "text/html": [],
      "text/plain": [
       "<IPython.core.display.HTML object>"
      ]
     },
     "metadata": {},
     "output_type": "display_data"
    },
    {
     "data": {
      "text/html": [],
      "text/plain": [
       "<IPython.core.display.HTML object>"
      ]
     },
     "metadata": {},
     "output_type": "display_data"
    }
   ],
   "source": [
    "data_clas = ItemLists(Path('.'), train_tl, validate_tl)\\\n",
    "    .label_from_df([\"primary_category\"])\\\n",
    "    .databunch(bs=batch_size)"
   ]
  },
  {
   "cell_type": "code",
   "execution_count": 10,
   "metadata": {},
   "outputs": [],
   "source": [
    "torch.manual_seed(42)\n",
    "torch.backends.cudnn.deterministic = True\n",
    "torch.backends.cudnn.benchmark = False\n",
    "np.random.seed(42)\n",
    "learn = text_classifier_learner(data_clas, AWD_LSTM)\n",
    "x = learn.load_encoder( Path('abstract-lm') ) # models subdir is the default in fastai"
   ]
  },
  {
   "cell_type": "code",
   "execution_count": 11,
   "metadata": {},
   "outputs": [
    {
     "data": {
      "text/html": [
       "<table border=\"1\" class=\"dataframe\">\n",
       "  <thead>\n",
       "    <tr style=\"text-align: left;\">\n",
       "      <th>epoch</th>\n",
       "      <th>train_loss</th>\n",
       "      <th>valid_loss</th>\n",
       "      <th>accuracy</th>\n",
       "      <th>time</th>\n",
       "    </tr>\n",
       "  </thead>\n",
       "  <tbody>\n",
       "    <tr>\n",
       "      <td>0</td>\n",
       "      <td>1.012685</td>\n",
       "      <td>1.131623</td>\n",
       "      <td>0.468085</td>\n",
       "      <td>02:21</td>\n",
       "    </tr>\n",
       "  </tbody>\n",
       "</table>"
      ],
      "text/plain": [
       "<IPython.core.display.HTML object>"
      ]
     },
     "metadata": {},
     "output_type": "display_data"
    }
   ],
   "source": [
    "learn.fit_one_cycle(1, 1e-2)"
   ]
  },
  {
   "cell_type": "code",
   "execution_count": 12,
   "metadata": {},
   "outputs": [
    {
     "data": {
      "text/html": [
       "<table border=\"1\" class=\"dataframe\">\n",
       "  <thead>\n",
       "    <tr style=\"text-align: left;\">\n",
       "      <th>epoch</th>\n",
       "      <th>train_loss</th>\n",
       "      <th>valid_loss</th>\n",
       "      <th>accuracy</th>\n",
       "      <th>time</th>\n",
       "    </tr>\n",
       "  </thead>\n",
       "  <tbody>\n",
       "    <tr>\n",
       "      <td>0</td>\n",
       "      <td>0.550785</td>\n",
       "      <td>0.885119</td>\n",
       "      <td>0.617021</td>\n",
       "      <td>02:23</td>\n",
       "    </tr>\n",
       "  </tbody>\n",
       "</table>"
      ],
      "text/plain": [
       "<IPython.core.display.HTML object>"
      ]
     },
     "metadata": {},
     "output_type": "display_data"
    }
   ],
   "source": [
    "learn.freeze_to(-2)\n",
    "learn.fit_one_cycle(1, slice(5e-3/2., 5e-3))"
   ]
  },
  {
   "cell_type": "code",
   "execution_count": 13,
   "metadata": {},
   "outputs": [
    {
     "data": {
      "text/html": [
       "<table border=\"1\" class=\"dataframe\">\n",
       "  <thead>\n",
       "    <tr style=\"text-align: left;\">\n",
       "      <th>epoch</th>\n",
       "      <th>train_loss</th>\n",
       "      <th>valid_loss</th>\n",
       "      <th>accuracy</th>\n",
       "      <th>time</th>\n",
       "    </tr>\n",
       "  </thead>\n",
       "  <tbody>\n",
       "    <tr>\n",
       "      <td>0</td>\n",
       "      <td>0.434553</td>\n",
       "      <td>0.722576</td>\n",
       "      <td>0.702128</td>\n",
       "      <td>02:36</td>\n",
       "    </tr>\n",
       "    <tr>\n",
       "      <td>1</td>\n",
       "      <td>0.438091</td>\n",
       "      <td>0.574864</td>\n",
       "      <td>0.872340</td>\n",
       "      <td>02:40</td>\n",
       "    </tr>\n",
       "    <tr>\n",
       "      <td>2</td>\n",
       "      <td>0.402751</td>\n",
       "      <td>0.441914</td>\n",
       "      <td>0.872340</td>\n",
       "      <td>02:40</td>\n",
       "    </tr>\n",
       "    <tr>\n",
       "      <td>3</td>\n",
       "      <td>0.363952</td>\n",
       "      <td>0.358679</td>\n",
       "      <td>0.914894</td>\n",
       "      <td>02:40</td>\n",
       "    </tr>\n",
       "    <tr>\n",
       "      <td>4</td>\n",
       "      <td>0.330980</td>\n",
       "      <td>0.295906</td>\n",
       "      <td>0.893617</td>\n",
       "      <td>02:43</td>\n",
       "    </tr>\n",
       "    <tr>\n",
       "      <td>5</td>\n",
       "      <td>0.309518</td>\n",
       "      <td>0.267687</td>\n",
       "      <td>0.872340</td>\n",
       "      <td>02:44</td>\n",
       "    </tr>\n",
       "  </tbody>\n",
       "</table>"
      ],
      "text/plain": [
       "<IPython.core.display.HTML object>"
      ]
     },
     "metadata": {},
     "output_type": "display_data"
    }
   ],
   "source": [
    "learn.unfreeze()\n",
    "learn.fit_one_cycle(6, slice(2e-3/100, 2e-3))"
   ]
  },
  {
   "cell_type": "code",
   "execution_count": 14,
   "metadata": {},
   "outputs": [],
   "source": [
    "learn.export(f'models/{model_id}-{dataset_name}.pkl')"
   ]
  },
  {
   "cell_type": "markdown",
   "metadata": {},
   "source": [
    "## Check Model Files\n",
    "- Verify that the model files can be loaded and a prediction can be made."
   ]
  },
  {
   "cell_type": "code",
   "execution_count": 15,
   "metadata": {},
   "outputs": [],
   "source": [
    "learn = load_learner(path=Path('models'),file=Path(f'{model_id}-{dataset_name}'))"
   ]
  },
  {
   "cell_type": "code",
   "execution_count": 16,
   "metadata": {},
   "outputs": [
    {
     "data": {
      "text/plain": [
       "[('astro-ph.GA', 0.0016822844),\n",
       " ('cs.HC', 0.052237447),\n",
       " ('hep-ph', 0.8532866),\n",
       " ('math.PR', 0.09279356)]"
      ]
     },
     "execution_count": 16,
     "metadata": {},
     "output_type": "execute_result"
    }
   ],
   "source": [
    "s1 = 'In the Minimal'\n",
    "s2 = 'Supersymmetric Extension of the Standard Model (MSSM) two complex Higgs'\n",
    "inputs = [s1, s2]\n",
    "probabilities = learn.predict(inputs)[2].numpy()\n",
    "list(zip(learn.data.classes, probabilities))"
   ]
  },
  {
   "cell_type": "markdown",
   "metadata": {},
   "source": [
    "## Copy Model to GS"
   ]
  },
  {
   "cell_type": "code",
   "execution_count": 17,
   "metadata": {},
   "outputs": [],
   "source": [
    "from google.cloud import storage\n",
    "storage_client = storage.Client()\n",
    "bucket = storage_client.get_bucket('arxiv-development-classifier')"
   ]
  },
  {
   "cell_type": "code",
   "execution_count": null,
   "metadata": {},
   "outputs": [],
   "source": [
    "blobs = bucket.list_blobs(prefix=f\"models/{model_id}\")\n",
    "for item in blobs:\n",
    "  print(item.name)"
   ]
  },
  {
   "cell_type": "code",
   "execution_count": null,
   "metadata": {},
   "outputs": [],
   "source": [
    "tmp = f'models/{model_id}-{dataset_name}.pkl'\n",
    "blob = bucket.blob(tmp)\n",
    "blob.upload_from_filename(tmp)"
   ]
  },
  {
   "cell_type": "markdown",
   "metadata": {},
   "source": [
    "## Debug"
   ]
  },
  {
   "cell_type": "code",
   "execution_count": null,
   "metadata": {},
   "outputs": [],
   "source": [
    "torch.cuda.get_device_name(0)"
   ]
  },
  {
   "cell_type": "code",
   "execution_count": null,
   "metadata": {},
   "outputs": [],
   "source": [
    "# This should take 10 seconds per gpu, to initialize.\n",
    "#   If it takes 5 minutes, that's bad.\n",
    "#   Maybe a CUDA communication issue with the GPU.\n",
    "%time torch.rand(2).cuda()"
   ]
  },
  {
   "cell_type": "code",
   "execution_count": null,
   "metadata": {},
   "outputs": [],
   "source": [
    "import gc\n",
    "gc.collect()"
   ]
  },
  {
   "cell_type": "code",
   "execution_count": null,
   "metadata": {},
   "outputs": [],
   "source": [
    "import torch\n",
    "torch.cuda.empty_cache()"
   ]
  }
 ],
 "metadata": {
  "kernelspec": {
   "display_name": "Python 3",
   "language": "python",
   "name": "python3"
  },
  "language_info": {
   "codemirror_mode": {
    "name": "ipython",
    "version": 3
   },
   "file_extension": ".py",
   "mimetype": "text/x-python",
   "name": "python",
   "nbconvert_exporter": "python",
   "pygments_lexer": "ipython3",
   "version": "3.6.13"
  }
 },
 "nbformat": 4,
 "nbformat_minor": 4
}
